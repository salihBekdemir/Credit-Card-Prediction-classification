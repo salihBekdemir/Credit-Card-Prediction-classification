{
 "cells": [
  {
   "cell_type": "markdown",
   "id": "56a9e6cf",
   "metadata": {},
   "source": [
    "# Credit Card Risk prediction"
   ]
  },
  {
   "cell_type": "markdown",
   "id": "07dc41bd",
   "metadata": {},
   "source": [
    "### In this lesson, we will analyze people who have credit cards and develop a model to find people who have the potential to get a credit card in the future"
   ]
  },
  {
   "cell_type": "markdown",
   "id": "8d2eedd3",
   "metadata": {},
   "source": [
    "<img src=https://pcibooking.net/wp-content/uploads/2018/11/pci_risk_assessment_cc_risk.png width='400'>"
   ]
  },
  {
   "cell_type": "code",
   "execution_count": 1,
   "id": "9d4dc3ea",
   "metadata": {},
   "outputs": [],
   "source": [
    "import pandas as pd\n",
    "import numpy as np\n",
    "import matplotlib.pyplot as plt\n",
    "import seaborn as sns\n",
    "\n",
    "import warnings\n",
    "warnings.filterwarnings('ignore')\n",
    "pd.set_option(\"display.max_columns\",100)\n",
    "pd.set_option(\"display.max_rows\",100)"
   ]
  },
  {
   "cell_type": "code",
   "execution_count": 2,
   "id": "94cf3d93",
   "metadata": {},
   "outputs": [],
   "source": [
    "df=pd.read_csv('train_data.csv')"
   ]
  },
  {
   "cell_type": "code",
   "execution_count": 3,
   "id": "97bc4266",
   "metadata": {},
   "outputs": [],
   "source": [
    "df2=pd.read_csv('test_data.csv')"
   ]
  },
  {
   "cell_type": "code",
   "execution_count": 4,
   "id": "e95f657b",
   "metadata": {},
   "outputs": [
    {
     "data": {
      "text/html": [
       "<div>\n",
       "<style scoped>\n",
       "    .dataframe tbody tr th:only-of-type {\n",
       "        vertical-align: middle;\n",
       "    }\n",
       "\n",
       "    .dataframe tbody tr th {\n",
       "        vertical-align: top;\n",
       "    }\n",
       "\n",
       "    .dataframe thead th {\n",
       "        text-align: right;\n",
       "    }\n",
       "</style>\n",
       "<table border=\"1\" class=\"dataframe\">\n",
       "  <thead>\n",
       "    <tr style=\"text-align: right;\">\n",
       "      <th></th>\n",
       "      <th>ID</th>\n",
       "      <th>Gender</th>\n",
       "      <th>Has a car</th>\n",
       "      <th>Has a property</th>\n",
       "      <th>Children count</th>\n",
       "      <th>Income</th>\n",
       "      <th>Employment status</th>\n",
       "      <th>Education level</th>\n",
       "      <th>Marital status</th>\n",
       "      <th>Dwelling</th>\n",
       "      <th>Age</th>\n",
       "      <th>Employment length</th>\n",
       "      <th>Has a mobile phone</th>\n",
       "      <th>Has a work phone</th>\n",
       "      <th>Has a phone</th>\n",
       "      <th>Has an email</th>\n",
       "      <th>Job title</th>\n",
       "      <th>Family member count</th>\n",
       "      <th>Account age</th>\n",
       "      <th>Is high risk</th>\n",
       "    </tr>\n",
       "  </thead>\n",
       "  <tbody>\n",
       "    <tr>\n",
       "      <th>0</th>\n",
       "      <td>5037048</td>\n",
       "      <td>M</td>\n",
       "      <td>Y</td>\n",
       "      <td>Y</td>\n",
       "      <td>0</td>\n",
       "      <td>135000.0</td>\n",
       "      <td>Working</td>\n",
       "      <td>Secondary / secondary special</td>\n",
       "      <td>Married</td>\n",
       "      <td>With parents</td>\n",
       "      <td>-16271</td>\n",
       "      <td>-3111</td>\n",
       "      <td>1</td>\n",
       "      <td>0</td>\n",
       "      <td>0</td>\n",
       "      <td>0</td>\n",
       "      <td>Core staff</td>\n",
       "      <td>2.0</td>\n",
       "      <td>-17.0</td>\n",
       "      <td>0</td>\n",
       "    </tr>\n",
       "    <tr>\n",
       "      <th>1</th>\n",
       "      <td>5044630</td>\n",
       "      <td>F</td>\n",
       "      <td>Y</td>\n",
       "      <td>N</td>\n",
       "      <td>1</td>\n",
       "      <td>135000.0</td>\n",
       "      <td>Commercial associate</td>\n",
       "      <td>Higher education</td>\n",
       "      <td>Single / not married</td>\n",
       "      <td>House / apartment</td>\n",
       "      <td>-10130</td>\n",
       "      <td>-1651</td>\n",
       "      <td>1</td>\n",
       "      <td>0</td>\n",
       "      <td>0</td>\n",
       "      <td>0</td>\n",
       "      <td>Accountants</td>\n",
       "      <td>2.0</td>\n",
       "      <td>-1.0</td>\n",
       "      <td>0</td>\n",
       "    </tr>\n",
       "    <tr>\n",
       "      <th>2</th>\n",
       "      <td>5079079</td>\n",
       "      <td>F</td>\n",
       "      <td>N</td>\n",
       "      <td>Y</td>\n",
       "      <td>2</td>\n",
       "      <td>180000.0</td>\n",
       "      <td>Commercial associate</td>\n",
       "      <td>Secondary / secondary special</td>\n",
       "      <td>Married</td>\n",
       "      <td>House / apartment</td>\n",
       "      <td>-12821</td>\n",
       "      <td>-5657</td>\n",
       "      <td>1</td>\n",
       "      <td>0</td>\n",
       "      <td>0</td>\n",
       "      <td>0</td>\n",
       "      <td>Laborers</td>\n",
       "      <td>4.0</td>\n",
       "      <td>-38.0</td>\n",
       "      <td>0</td>\n",
       "    </tr>\n",
       "    <tr>\n",
       "      <th>3</th>\n",
       "      <td>5112872</td>\n",
       "      <td>F</td>\n",
       "      <td>Y</td>\n",
       "      <td>Y</td>\n",
       "      <td>0</td>\n",
       "      <td>360000.0</td>\n",
       "      <td>Commercial associate</td>\n",
       "      <td>Higher education</td>\n",
       "      <td>Single / not married</td>\n",
       "      <td>House / apartment</td>\n",
       "      <td>-20929</td>\n",
       "      <td>-2046</td>\n",
       "      <td>1</td>\n",
       "      <td>0</td>\n",
       "      <td>0</td>\n",
       "      <td>1</td>\n",
       "      <td>Managers</td>\n",
       "      <td>1.0</td>\n",
       "      <td>-11.0</td>\n",
       "      <td>0</td>\n",
       "    </tr>\n",
       "    <tr>\n",
       "      <th>4</th>\n",
       "      <td>5105858</td>\n",
       "      <td>F</td>\n",
       "      <td>N</td>\n",
       "      <td>N</td>\n",
       "      <td>0</td>\n",
       "      <td>270000.0</td>\n",
       "      <td>Working</td>\n",
       "      <td>Secondary / secondary special</td>\n",
       "      <td>Separated</td>\n",
       "      <td>House / apartment</td>\n",
       "      <td>-16207</td>\n",
       "      <td>-515</td>\n",
       "      <td>1</td>\n",
       "      <td>0</td>\n",
       "      <td>1</td>\n",
       "      <td>0</td>\n",
       "      <td>NaN</td>\n",
       "      <td>1.0</td>\n",
       "      <td>-41.0</td>\n",
       "      <td>0</td>\n",
       "    </tr>\n",
       "  </tbody>\n",
       "</table>\n",
       "</div>"
      ],
      "text/plain": [
       "        ID Gender Has a car Has a property  Children count    Income  \\\n",
       "0  5037048      M         Y              Y               0  135000.0   \n",
       "1  5044630      F         Y              N               1  135000.0   \n",
       "2  5079079      F         N              Y               2  180000.0   \n",
       "3  5112872      F         Y              Y               0  360000.0   \n",
       "4  5105858      F         N              N               0  270000.0   \n",
       "\n",
       "      Employment status                Education level        Marital status  \\\n",
       "0               Working  Secondary / secondary special               Married   \n",
       "1  Commercial associate               Higher education  Single / not married   \n",
       "2  Commercial associate  Secondary / secondary special               Married   \n",
       "3  Commercial associate               Higher education  Single / not married   \n",
       "4               Working  Secondary / secondary special             Separated   \n",
       "\n",
       "            Dwelling    Age  Employment length  Has a mobile phone  \\\n",
       "0       With parents -16271              -3111                   1   \n",
       "1  House / apartment -10130              -1651                   1   \n",
       "2  House / apartment -12821              -5657                   1   \n",
       "3  House / apartment -20929              -2046                   1   \n",
       "4  House / apartment -16207               -515                   1   \n",
       "\n",
       "   Has a work phone  Has a phone  Has an email    Job title  \\\n",
       "0                 0            0             0   Core staff   \n",
       "1                 0            0             0  Accountants   \n",
       "2                 0            0             0     Laborers   \n",
       "3                 0            0             1     Managers   \n",
       "4                 0            1             0          NaN   \n",
       "\n",
       "   Family member count  Account age  Is high risk  \n",
       "0                  2.0        -17.0             0  \n",
       "1                  2.0         -1.0             0  \n",
       "2                  4.0        -38.0             0  \n",
       "3                  1.0        -11.0             0  \n",
       "4                  1.0        -41.0             0  "
      ]
     },
     "execution_count": 4,
     "metadata": {},
     "output_type": "execute_result"
    }
   ],
   "source": [
    "df.head()"
   ]
  },
  {
   "cell_type": "code",
   "execution_count": 5,
   "id": "0b13d4ed",
   "metadata": {},
   "outputs": [
    {
     "data": {
      "text/plain": [
       "(29165, 20)"
      ]
     },
     "execution_count": 5,
     "metadata": {},
     "output_type": "execute_result"
    }
   ],
   "source": [
    "df.shape"
   ]
  },
  {
   "cell_type": "code",
   "execution_count": 6,
   "id": "b7c4693e",
   "metadata": {},
   "outputs": [
    {
     "data": {
      "text/html": [
       "<div>\n",
       "<style scoped>\n",
       "    .dataframe tbody tr th:only-of-type {\n",
       "        vertical-align: middle;\n",
       "    }\n",
       "\n",
       "    .dataframe tbody tr th {\n",
       "        vertical-align: top;\n",
       "    }\n",
       "\n",
       "    .dataframe thead th {\n",
       "        text-align: right;\n",
       "    }\n",
       "</style>\n",
       "<table border=\"1\" class=\"dataframe\">\n",
       "  <thead>\n",
       "    <tr style=\"text-align: right;\">\n",
       "      <th></th>\n",
       "      <th>ID</th>\n",
       "      <th>Gender</th>\n",
       "      <th>Has a car</th>\n",
       "      <th>Has a property</th>\n",
       "      <th>Children count</th>\n",
       "      <th>Income</th>\n",
       "      <th>Employment status</th>\n",
       "      <th>Education level</th>\n",
       "      <th>Marital status</th>\n",
       "      <th>Dwelling</th>\n",
       "      <th>Age</th>\n",
       "      <th>Employment length</th>\n",
       "      <th>Has a mobile phone</th>\n",
       "      <th>Has a work phone</th>\n",
       "      <th>Has a phone</th>\n",
       "      <th>Has an email</th>\n",
       "      <th>Job title</th>\n",
       "      <th>Family member count</th>\n",
       "      <th>Account age</th>\n",
       "      <th>Is high risk</th>\n",
       "    </tr>\n",
       "  </thead>\n",
       "  <tbody>\n",
       "    <tr>\n",
       "      <th>0</th>\n",
       "      <td>5091261</td>\n",
       "      <td>F</td>\n",
       "      <td>N</td>\n",
       "      <td>Y</td>\n",
       "      <td>0</td>\n",
       "      <td>202500.0</td>\n",
       "      <td>State servant</td>\n",
       "      <td>Secondary / secondary special</td>\n",
       "      <td>Separated</td>\n",
       "      <td>House / apartment</td>\n",
       "      <td>-16834</td>\n",
       "      <td>-1692</td>\n",
       "      <td>1</td>\n",
       "      <td>0</td>\n",
       "      <td>0</td>\n",
       "      <td>0</td>\n",
       "      <td>Medicine staff</td>\n",
       "      <td>1.0</td>\n",
       "      <td>-6.0</td>\n",
       "      <td>0</td>\n",
       "    </tr>\n",
       "    <tr>\n",
       "      <th>1</th>\n",
       "      <td>5096963</td>\n",
       "      <td>M</td>\n",
       "      <td>Y</td>\n",
       "      <td>N</td>\n",
       "      <td>0</td>\n",
       "      <td>675000.0</td>\n",
       "      <td>Commercial associate</td>\n",
       "      <td>Higher education</td>\n",
       "      <td>Married</td>\n",
       "      <td>House / apartment</td>\n",
       "      <td>-18126</td>\n",
       "      <td>-948</td>\n",
       "      <td>1</td>\n",
       "      <td>0</td>\n",
       "      <td>1</td>\n",
       "      <td>0</td>\n",
       "      <td>Managers</td>\n",
       "      <td>2.0</td>\n",
       "      <td>-16.0</td>\n",
       "      <td>0</td>\n",
       "    </tr>\n",
       "    <tr>\n",
       "      <th>2</th>\n",
       "      <td>5087880</td>\n",
       "      <td>F</td>\n",
       "      <td>N</td>\n",
       "      <td>N</td>\n",
       "      <td>0</td>\n",
       "      <td>234000.0</td>\n",
       "      <td>State servant</td>\n",
       "      <td>Higher education</td>\n",
       "      <td>Civil marriage</td>\n",
       "      <td>House / apartment</td>\n",
       "      <td>-21967</td>\n",
       "      <td>-5215</td>\n",
       "      <td>1</td>\n",
       "      <td>0</td>\n",
       "      <td>0</td>\n",
       "      <td>1</td>\n",
       "      <td>Core staff</td>\n",
       "      <td>2.0</td>\n",
       "      <td>-52.0</td>\n",
       "      <td>0</td>\n",
       "    </tr>\n",
       "    <tr>\n",
       "      <th>3</th>\n",
       "      <td>5021949</td>\n",
       "      <td>F</td>\n",
       "      <td>Y</td>\n",
       "      <td>Y</td>\n",
       "      <td>0</td>\n",
       "      <td>445500.0</td>\n",
       "      <td>Commercial associate</td>\n",
       "      <td>Higher education</td>\n",
       "      <td>Married</td>\n",
       "      <td>House / apartment</td>\n",
       "      <td>-12477</td>\n",
       "      <td>-456</td>\n",
       "      <td>1</td>\n",
       "      <td>0</td>\n",
       "      <td>0</td>\n",
       "      <td>0</td>\n",
       "      <td>Managers</td>\n",
       "      <td>2.0</td>\n",
       "      <td>-54.0</td>\n",
       "      <td>0</td>\n",
       "    </tr>\n",
       "    <tr>\n",
       "      <th>4</th>\n",
       "      <td>5105705</td>\n",
       "      <td>F</td>\n",
       "      <td>Y</td>\n",
       "      <td>N</td>\n",
       "      <td>0</td>\n",
       "      <td>225000.0</td>\n",
       "      <td>Working</td>\n",
       "      <td>Secondary / secondary special</td>\n",
       "      <td>Married</td>\n",
       "      <td>Municipal apartment</td>\n",
       "      <td>-12155</td>\n",
       "      <td>-667</td>\n",
       "      <td>1</td>\n",
       "      <td>0</td>\n",
       "      <td>0</td>\n",
       "      <td>0</td>\n",
       "      <td>Laborers</td>\n",
       "      <td>2.0</td>\n",
       "      <td>-48.0</td>\n",
       "      <td>0</td>\n",
       "    </tr>\n",
       "  </tbody>\n",
       "</table>\n",
       "</div>"
      ],
      "text/plain": [
       "        ID Gender Has a car Has a property  Children count    Income  \\\n",
       "0  5091261      F         N              Y               0  202500.0   \n",
       "1  5096963      M         Y              N               0  675000.0   \n",
       "2  5087880      F         N              N               0  234000.0   \n",
       "3  5021949      F         Y              Y               0  445500.0   \n",
       "4  5105705      F         Y              N               0  225000.0   \n",
       "\n",
       "      Employment status                Education level  Marital status  \\\n",
       "0         State servant  Secondary / secondary special       Separated   \n",
       "1  Commercial associate               Higher education         Married   \n",
       "2         State servant               Higher education  Civil marriage   \n",
       "3  Commercial associate               Higher education         Married   \n",
       "4               Working  Secondary / secondary special         Married   \n",
       "\n",
       "              Dwelling    Age  Employment length  Has a mobile phone  \\\n",
       "0    House / apartment -16834              -1692                   1   \n",
       "1    House / apartment -18126               -948                   1   \n",
       "2    House / apartment -21967              -5215                   1   \n",
       "3    House / apartment -12477               -456                   1   \n",
       "4  Municipal apartment -12155               -667                   1   \n",
       "\n",
       "   Has a work phone  Has a phone  Has an email       Job title  \\\n",
       "0                 0            0             0  Medicine staff   \n",
       "1                 0            1             0        Managers   \n",
       "2                 0            0             1      Core staff   \n",
       "3                 0            0             0        Managers   \n",
       "4                 0            0             0        Laborers   \n",
       "\n",
       "   Family member count  Account age  Is high risk  \n",
       "0                  1.0         -6.0             0  \n",
       "1                  2.0        -16.0             0  \n",
       "2                  2.0        -52.0             0  \n",
       "3                  2.0        -54.0             0  \n",
       "4                  2.0        -48.0             0  "
      ]
     },
     "execution_count": 6,
     "metadata": {},
     "output_type": "execute_result"
    }
   ],
   "source": [
    "df2.head()"
   ]
  },
  {
   "cell_type": "code",
   "execution_count": 7,
   "id": "4bbe1435",
   "metadata": {},
   "outputs": [
    {
     "data": {
      "text/plain": [
       "(7292, 20)"
      ]
     },
     "execution_count": 7,
     "metadata": {},
     "output_type": "execute_result"
    }
   ],
   "source": [
    "df2.shape"
   ]
  },
  {
   "cell_type": "code",
   "execution_count": 8,
   "id": "5dd7df75",
   "metadata": {},
   "outputs": [],
   "source": [
    "df=pd.concat([df,df2])"
   ]
  },
  {
   "cell_type": "code",
   "execution_count": 9,
   "id": "8c96ca08",
   "metadata": {},
   "outputs": [
    {
     "data": {
      "text/plain": [
       "(36457, 20)"
      ]
     },
     "execution_count": 9,
     "metadata": {},
     "output_type": "execute_result"
    }
   ],
   "source": [
    "df.shape"
   ]
  },
  {
   "cell_type": "code",
   "execution_count": 10,
   "id": "e8568ef8",
   "metadata": {},
   "outputs": [
    {
     "data": {
      "text/plain": [
       "Index(['ID', 'Gender', 'Has a car', 'Has a property', 'Children count',\n",
       "       'Income', 'Employment status', 'Education level', 'Marital status',\n",
       "       'Dwelling', 'Age', 'Employment length', 'Has a mobile phone',\n",
       "       'Has a work phone', 'Has a phone', 'Has an email', 'Job title',\n",
       "       'Family member count', 'Account age', 'Is high risk'],\n",
       "      dtype='object')"
      ]
     },
     "execution_count": 10,
     "metadata": {},
     "output_type": "execute_result"
    }
   ],
   "source": [
    "df.columns"
   ]
  },
  {
   "cell_type": "code",
   "execution_count": 11,
   "id": "a7905e7e",
   "metadata": {},
   "outputs": [
    {
     "data": {
      "image/png": "[encoded data removed]",
      "text/plain": [
       "<Figure size 640x480 with 1 Axes>"
      ]
     },
     "metadata": {},
     "output_type": "display_data"
    }
   ],
   "source": [
    "ax=sns.countplot(x=df['Is high risk'])\n",
    "ax.bar_label(ax.containers[0]);"
   ]
  },
  {
   "cell_type": "code",
   "execution_count": 12,
   "id": "c8f14338",
   "metadata": {},
   "outputs": [
    {
     "data": {
      "image/png": "[encoded data removed]",
      "text/plain": [
       "<Figure size 2400x2400 with 2 Axes>"
      ]
     },
     "metadata": {},
     "output_type": "display_data"
    }
   ],
   "source": [
    "plt.figure(figsize=(24, 24))  \n",
    "sns.heatmap(df.corr(numeric_only=True), annot=True)\n",
    "\n",
    "plt.show()"
   ]
  },
  {
   "cell_type": "code",
   "execution_count": 13,
   "id": "e28cc805",
   "metadata": {},
   "outputs": [
    {
     "data": {
      "text/plain": [
       "Is high risk           1.000000\n",
       "ID                     0.015588\n",
       "Employment length      0.005664\n",
       "Has a work phone       0.005640\n",
       "Has a phone            0.001585\n",
       "Age                    0.001478\n",
       "Children count         0.000308\n",
       "Income                 0.001057\n",
       "Has an email           0.002434\n",
       "Family member count    0.005660\n",
       "Account age            0.060215\n",
       "Has a mobile phone          NaN\n",
       "Name: Is high risk, dtype: float64"
      ]
     },
     "execution_count": 13,
     "metadata": {},
     "output_type": "execute_result"
    }
   ],
   "source": [
    "abs(df.corr(numeric_only=True)['Is high risk'].sort_values(ascending=False))"
   ]
  },
  {
   "cell_type": "code",
   "execution_count": 14,
   "id": "fab4f441",
   "metadata": {},
   "outputs": [
    {
     "data": {
      "text/plain": [
       "Has a mobile phone\n",
       "1    36457\n",
       "Name: count, dtype: int64"
      ]
     },
     "execution_count": 14,
     "metadata": {},
     "output_type": "execute_result"
    }
   ],
   "source": [
    "df['Has a mobile phone'].value_counts()"
   ]
  },
  {
   "cell_type": "code",
   "execution_count": 15,
   "id": "98c18813",
   "metadata": {},
   "outputs": [
    {
     "data": {
      "text/plain": [
       "ID                         0\n",
       "Gender                     0\n",
       "Has a car                  0\n",
       "Has a property             0\n",
       "Children count             0\n",
       "Income                     0\n",
       "Employment status          0\n",
       "Education level            0\n",
       "Marital status             0\n",
       "Dwelling                   0\n",
       "Age                        0\n",
       "Employment length          0\n",
       "Has a mobile phone         0\n",
       "Has a work phone           0\n",
       "Has a phone                0\n",
       "Has an email               0\n",
       "Job title              11323\n",
       "Family member count        0\n",
       "Account age                0\n",
       "Is high risk               0\n",
       "dtype: int64"
      ]
     },
     "execution_count": 15,
     "metadata": {},
     "output_type": "execute_result"
    }
   ],
   "source": [
    "df.isnull().sum()"
   ]
  },
  {
   "cell_type": "code",
   "execution_count": 16,
   "id": "6c6c6c2d",
   "metadata": {},
   "outputs": [
    {
     "data": {
      "text/plain": [
       "Job title\n",
       "Laborers                 6211\n",
       "Core staff               3591\n",
       "Sales staff              3485\n",
       "Managers                 3012\n",
       "Drivers                  2138\n",
       "High skill tech staff    1383\n",
       "Accountants              1241\n",
       "Medicine staff           1207\n",
       "Cooking staff             655\n",
       "Security staff            592\n",
       "Cleaning staff            551\n",
       "Private service staff     344\n",
       "Low-skill Laborers        175\n",
       "Waiters/barmen staff      174\n",
       "Secretaries               151\n",
       "HR staff                   85\n",
       "Realty agents              79\n",
       "IT staff                   60\n",
       "Name: count, dtype: int64"
      ]
     },
     "execution_count": 16,
     "metadata": {},
     "output_type": "execute_result"
    }
   ],
   "source": [
    "df['Job title'].value_counts()"
   ]
  },
  {
   "cell_type": "code",
   "execution_count": 17,
   "id": "f3042a7a",
   "metadata": {},
   "outputs": [
    {
     "data": {
      "image/png": "[encoded data removed]",
      "text/plain": [
       "<Figure size 640x480 with 1 Axes>"
      ]
     },
     "metadata": {},
     "output_type": "display_data"
    }
   ],
   "source": [
    "sns.countplot(x=df['Is high risk'],hue=df.Gender)\n",
    "plt.xticks(rotation=90);"
   ]
  },
  {
   "cell_type": "code",
   "execution_count": 18,
   "id": "f37a7510",
   "metadata": {},
   "outputs": [],
   "source": [
    "df=df.drop(['Job title','ID','Has a mobile phone'],axis=1)"
   ]
  },
  {
   "cell_type": "code",
   "execution_count": 19,
   "id": "aa7b32ee",
   "metadata": {},
   "outputs": [
    {
     "data": {
      "text/html": [
       "<div>\n",
       "<style scoped>\n",
       "    .dataframe tbody tr th:only-of-type {\n",
       "        vertical-align: middle;\n",
       "    }\n",
       "\n",
       "    .dataframe tbody tr th {\n",
       "        vertical-align: top;\n",
       "    }\n",
       "\n",
       "    .dataframe thead th {\n",
       "        text-align: right;\n",
       "    }\n",
       "</style>\n",
       "<table border=\"1\" class=\"dataframe\">\n",
       "  <thead>\n",
       "    <tr style=\"text-align: right;\">\n",
       "      <th></th>\n",
       "      <th>Gender</th>\n",
       "      <th>Has a car</th>\n",
       "      <th>Has a property</th>\n",
       "      <th>Children count</th>\n",
       "      <th>Income</th>\n",
       "      <th>Employment status</th>\n",
       "      <th>Education level</th>\n",
       "      <th>Marital status</th>\n",
       "      <th>Dwelling</th>\n",
       "      <th>Age</th>\n",
       "      <th>Employment length</th>\n",
       "      <th>Has a work phone</th>\n",
       "      <th>Has a phone</th>\n",
       "      <th>Has an email</th>\n",
       "      <th>Family member count</th>\n",
       "      <th>Account age</th>\n",
       "      <th>Is high risk</th>\n",
       "    </tr>\n",
       "  </thead>\n",
       "  <tbody>\n",
       "    <tr>\n",
       "      <th>0</th>\n",
       "      <td>M</td>\n",
       "      <td>Y</td>\n",
       "      <td>Y</td>\n",
       "      <td>0</td>\n",
       "      <td>135000.0</td>\n",
       "      <td>Working</td>\n",
       "      <td>Secondary / secondary special</td>\n",
       "      <td>Married</td>\n",
       "      <td>With parents</td>\n",
       "      <td>-16271</td>\n",
       "      <td>-3111</td>\n",
       "      <td>0</td>\n",
       "      <td>0</td>\n",
       "      <td>0</td>\n",
       "      <td>2.0</td>\n",
       "      <td>-17.0</td>\n",
       "      <td>0</td>\n",
       "    </tr>\n",
       "    <tr>\n",
       "      <th>1</th>\n",
       "      <td>F</td>\n",
       "      <td>Y</td>\n",
       "      <td>N</td>\n",
       "      <td>1</td>\n",
       "      <td>135000.0</td>\n",
       "      <td>Commercial associate</td>\n",
       "      <td>Higher education</td>\n",
       "      <td>Single / not married</td>\n",
       "      <td>House / apartment</td>\n",
       "      <td>-10130</td>\n",
       "      <td>-1651</td>\n",
       "      <td>0</td>\n",
       "      <td>0</td>\n",
       "      <td>0</td>\n",
       "      <td>2.0</td>\n",
       "      <td>-1.0</td>\n",
       "      <td>0</td>\n",
       "    </tr>\n",
       "    <tr>\n",
       "      <th>2</th>\n",
       "      <td>F</td>\n",
       "      <td>N</td>\n",
       "      <td>Y</td>\n",
       "      <td>2</td>\n",
       "      <td>180000.0</td>\n",
       "      <td>Commercial associate</td>\n",
       "      <td>Secondary / secondary special</td>\n",
       "      <td>Married</td>\n",
       "      <td>House / apartment</td>\n",
       "      <td>-12821</td>\n",
       "      <td>-5657</td>\n",
       "      <td>0</td>\n",
       "      <td>0</td>\n",
       "      <td>0</td>\n",
       "      <td>4.0</td>\n",
       "      <td>-38.0</td>\n",
       "      <td>0</td>\n",
       "    </tr>\n",
       "    <tr>\n",
       "      <th>3</th>\n",
       "      <td>F</td>\n",
       "      <td>Y</td>\n",
       "      <td>Y</td>\n",
       "      <td>0</td>\n",
       "      <td>360000.0</td>\n",
       "      <td>Commercial associate</td>\n",
       "      <td>Higher education</td>\n",
       "      <td>Single / not married</td>\n",
       "      <td>House / apartment</td>\n",
       "      <td>-20929</td>\n",
       "      <td>-2046</td>\n",
       "      <td>0</td>\n",
       "      <td>0</td>\n",
       "      <td>1</td>\n",
       "      <td>1.0</td>\n",
       "      <td>-11.0</td>\n",
       "      <td>0</td>\n",
       "    </tr>\n",
       "    <tr>\n",
       "      <th>4</th>\n",
       "      <td>F</td>\n",
       "      <td>N</td>\n",
       "      <td>N</td>\n",
       "      <td>0</td>\n",
       "      <td>270000.0</td>\n",
       "      <td>Working</td>\n",
       "      <td>Secondary / secondary special</td>\n",
       "      <td>Separated</td>\n",
       "      <td>House / apartment</td>\n",
       "      <td>-16207</td>\n",
       "      <td>-515</td>\n",
       "      <td>0</td>\n",
       "      <td>1</td>\n",
       "      <td>0</td>\n",
       "      <td>1.0</td>\n",
       "      <td>-41.0</td>\n",
       "      <td>0</td>\n",
       "    </tr>\n",
       "  </tbody>\n",
       "</table>\n",
       "</div>"
      ],
      "text/plain": [
       "  Gender Has a car Has a property  Children count    Income  \\\n",
       "0      M         Y              Y               0  135000.0   \n",
       "1      F         Y              N               1  135000.0   \n",
       "2      F         N              Y               2  180000.0   \n",
       "3      F         Y              Y               0  360000.0   \n",
       "4      F         N              N               0  270000.0   \n",
       "\n",
       "      Employment status                Education level        Marital status  \\\n",
       "0               Working  Secondary / secondary special               Married   \n",
       "1  Commercial associate               Higher education  Single / not married   \n",
       "2  Commercial associate  Secondary / secondary special               Married   \n",
       "3  Commercial associate               Higher education  Single / not married   \n",
       "4               Working  Secondary / secondary special             Separated   \n",
       "\n",
       "            Dwelling    Age  Employment length  Has a work phone  Has a phone  \\\n",
       "0       With parents -16271              -3111                 0            0   \n",
       "1  House / apartment -10130              -1651                 0            0   \n",
       "2  House / apartment -12821              -5657                 0            0   \n",
       "3  House / apartment -20929              -2046                 0            0   \n",
       "4  House / apartment -16207               -515                 0            1   \n",
       "\n",
       "   Has an email  Family member count  Account age  Is high risk  \n",
       "0             0                  2.0        -17.0             0  \n",
       "1             0                  2.0         -1.0             0  \n",
       "2             0                  4.0        -38.0             0  \n",
       "3             1                  1.0        -11.0             0  \n",
       "4             0                  1.0        -41.0             0  "
      ]
     },
     "execution_count": 19,
     "metadata": {},
     "output_type": "execute_result"
    }
   ],
   "source": [
    "df.head()"
   ]
  },
  {
   "cell_type": "code",
   "execution_count": 20,
   "id": "d66bb68d",
   "metadata": {},
   "outputs": [
    {
     "data": {
      "text/plain": [
       "Index(['Gender', 'Has a car', 'Has a property', 'Children count', 'Income',\n",
       "       'Employment status', 'Education level', 'Marital status', 'Dwelling',\n",
       "       'Age', 'Employment length', 'Has a work phone', 'Has a phone',\n",
       "       'Has an email', 'Family member count', 'Account age', 'Is high risk'],\n",
       "      dtype='object')"
      ]
     },
     "execution_count": 20,
     "metadata": {},
     "output_type": "execute_result"
    }
   ],
   "source": [
    "df.columns"
   ]
  },
  {
   "cell_type": "code",
   "execution_count": 21,
   "id": "d5a72740",
   "metadata": {},
   "outputs": [
    {
     "data": {
      "text/plain": [
       "Dwelling\n",
       "House / apartment      32548\n",
       "With parents            1776\n",
       "Municipal apartment     1128\n",
       "Rented apartment         575\n",
       "Office apartment         262\n",
       "Co-op apartment          168\n",
       "Name: count, dtype: int64"
      ]
     },
     "execution_count": 21,
     "metadata": {},
     "output_type": "execute_result"
    }
   ],
   "source": [
    "df['Dwelling'].value_counts()"
   ]
  },
  {
   "cell_type": "code",
   "execution_count": 22,
   "id": "e6df2a23",
   "metadata": {},
   "outputs": [],
   "source": [
    "e={'N': 0, 'Y': 1,}"
   ]
  },
  {
   "cell_type": "code",
   "execution_count": 23,
   "id": "36fb13b9",
   "metadata": {},
   "outputs": [],
   "source": [
    "df['Has a car']=df['Has a car'].map(e)"
   ]
  },
  {
   "cell_type": "code",
   "execution_count": 24,
   "id": "3802ee77",
   "metadata": {},
   "outputs": [],
   "source": [
    "df['Has a property']=df['Has a property'].map(e)"
   ]
  },
  {
   "cell_type": "code",
   "execution_count": 25,
   "id": "60175a35",
   "metadata": {},
   "outputs": [
    {
     "data": {
      "text/html": [
       "<div>\n",
       "<style scoped>\n",
       "    .dataframe tbody tr th:only-of-type {\n",
       "        vertical-align: middle;\n",
       "    }\n",
       "\n",
       "    .dataframe tbody tr th {\n",
       "        vertical-align: top;\n",
       "    }\n",
       "\n",
       "    .dataframe thead th {\n",
       "        text-align: right;\n",
       "    }\n",
       "</style>\n",
       "<table border=\"1\" class=\"dataframe\">\n",
       "  <thead>\n",
       "    <tr style=\"text-align: right;\">\n",
       "      <th></th>\n",
       "      <th>Gender</th>\n",
       "      <th>Has a car</th>\n",
       "      <th>Has a property</th>\n",
       "      <th>Children count</th>\n",
       "      <th>Income</th>\n",
       "      <th>Employment status</th>\n",
       "      <th>Education level</th>\n",
       "      <th>Marital status</th>\n",
       "      <th>Dwelling</th>\n",
       "      <th>Age</th>\n",
       "      <th>Employment length</th>\n",
       "      <th>Has a work phone</th>\n",
       "      <th>Has a phone</th>\n",
       "      <th>Has an email</th>\n",
       "      <th>Family member count</th>\n",
       "      <th>Account age</th>\n",
       "      <th>Is high risk</th>\n",
       "    </tr>\n",
       "  </thead>\n",
       "  <tbody>\n",
       "    <tr>\n",
       "      <th>0</th>\n",
       "      <td>M</td>\n",
       "      <td>1</td>\n",
       "      <td>1</td>\n",
       "      <td>0</td>\n",
       "      <td>135000.0</td>\n",
       "      <td>Working</td>\n",
       "      <td>Secondary / secondary special</td>\n",
       "      <td>Married</td>\n",
       "      <td>With parents</td>\n",
       "      <td>-16271</td>\n",
       "      <td>-3111</td>\n",
       "      <td>0</td>\n",
       "      <td>0</td>\n",
       "      <td>0</td>\n",
       "      <td>2.0</td>\n",
       "      <td>-17.0</td>\n",
       "      <td>0</td>\n",
       "    </tr>\n",
       "    <tr>\n",
       "      <th>1</th>\n",
       "      <td>F</td>\n",
       "      <td>1</td>\n",
       "      <td>0</td>\n",
       "      <td>1</td>\n",
       "      <td>135000.0</td>\n",
       "      <td>Commercial associate</td>\n",
       "      <td>Higher education</td>\n",
       "      <td>Single / not married</td>\n",
       "      <td>House / apartment</td>\n",
       "      <td>-10130</td>\n",
       "      <td>-1651</td>\n",
       "      <td>0</td>\n",
       "      <td>0</td>\n",
       "      <td>0</td>\n",
       "      <td>2.0</td>\n",
       "      <td>-1.0</td>\n",
       "      <td>0</td>\n",
       "    </tr>\n",
       "    <tr>\n",
       "      <th>2</th>\n",
       "      <td>F</td>\n",
       "      <td>0</td>\n",
       "      <td>1</td>\n",
       "      <td>2</td>\n",
       "      <td>180000.0</td>\n",
       "      <td>Commercial associate</td>\n",
       "      <td>Secondary / secondary special</td>\n",
       "      <td>Married</td>\n",
       "      <td>House / apartment</td>\n",
       "      <td>-12821</td>\n",
       "      <td>-5657</td>\n",
       "      <td>0</td>\n",
       "      <td>0</td>\n",
       "      <td>0</td>\n",
       "      <td>4.0</td>\n",
       "      <td>-38.0</td>\n",
       "      <td>0</td>\n",
       "    </tr>\n",
       "    <tr>\n",
       "      <th>3</th>\n",
       "      <td>F</td>\n",
       "      <td>1</td>\n",
       "      <td>1</td>\n",
       "      <td>0</td>\n",
       "      <td>360000.0</td>\n",
       "      <td>Commercial associate</td>\n",
       "      <td>Higher education</td>\n",
       "      <td>Single / not married</td>\n",
       "      <td>House / apartment</td>\n",
       "      <td>-20929</td>\n",
       "      <td>-2046</td>\n",
       "      <td>0</td>\n",
       "      <td>0</td>\n",
       "      <td>1</td>\n",
       "      <td>1.0</td>\n",
       "      <td>-11.0</td>\n",
       "      <td>0</td>\n",
       "    </tr>\n",
       "    <tr>\n",
       "      <th>4</th>\n",
       "      <td>F</td>\n",
       "      <td>0</td>\n",
       "      <td>0</td>\n",
       "      <td>0</td>\n",
       "      <td>270000.0</td>\n",
       "      <td>Working</td>\n",
       "      <td>Secondary / secondary special</td>\n",
       "      <td>Separated</td>\n",
       "      <td>House / apartment</td>\n",
       "      <td>-16207</td>\n",
       "      <td>-515</td>\n",
       "      <td>0</td>\n",
       "      <td>1</td>\n",
       "      <td>0</td>\n",
       "      <td>1.0</td>\n",
       "      <td>-41.0</td>\n",
       "      <td>0</td>\n",
       "    </tr>\n",
       "  </tbody>\n",
       "</table>\n",
       "</div>"
      ],
      "text/plain": [
       "  Gender  Has a car  Has a property  Children count    Income  \\\n",
       "0      M          1               1               0  135000.0   \n",
       "1      F          1               0               1  135000.0   \n",
       "2      F          0               1               2  180000.0   \n",
       "3      F          1               1               0  360000.0   \n",
       "4      F          0               0               0  270000.0   \n",
       "\n",
       "      Employment status                Education level        Marital status  \\\n",
       "0               Working  Secondary / secondary special               Married   \n",
       "1  Commercial associate               Higher education  Single / not married   \n",
       "2  Commercial associate  Secondary / secondary special               Married   \n",
       "3  Commercial associate               Higher education  Single / not married   \n",
       "4               Working  Secondary / secondary special             Separated   \n",
       "\n",
       "            Dwelling    Age  Employment length  Has a work phone  Has a phone  \\\n",
       "0       With parents -16271              -3111                 0            0   \n",
       "1  House / apartment -10130              -1651                 0            0   \n",
       "2  House / apartment -12821              -5657                 0            0   \n",
       "3  House / apartment -20929              -2046                 0            0   \n",
       "4  House / apartment -16207               -515                 0            1   \n",
       "\n",
       "   Has an email  Family member count  Account age  Is high risk  \n",
       "0             0                  2.0        -17.0             0  \n",
       "1             0                  2.0         -1.0             0  \n",
       "2             0                  4.0        -38.0             0  \n",
       "3             1                  1.0        -11.0             0  \n",
       "4             0                  1.0        -41.0             0  "
      ]
     },
     "execution_count": 25,
     "metadata": {},
     "output_type": "execute_result"
    }
   ],
   "source": [
    "df.head()"
   ]
  },
  {
   "cell_type": "code",
   "execution_count": 26,
   "id": "e51d3d04",
   "metadata": {},
   "outputs": [],
   "source": [
    "df=pd.get_dummies(df,drop_first=True)"
   ]
  },
  {
   "cell_type": "code",
   "execution_count": 27,
   "id": "1de767df",
   "metadata": {},
   "outputs": [
    {
     "data": {
      "text/html": [
       "<div>\n",
       "<style scoped>\n",
       "    .dataframe tbody tr th:only-of-type {\n",
       "        vertical-align: middle;\n",
       "    }\n",
       "\n",
       "    .dataframe tbody tr th {\n",
       "        vertical-align: top;\n",
       "    }\n",
       "\n",
       "    .dataframe thead th {\n",
       "        text-align: right;\n",
       "    }\n",
       "</style>\n",
       "<table border=\"1\" class=\"dataframe\">\n",
       "  <thead>\n",
       "    <tr style=\"text-align: right;\">\n",
       "      <th></th>\n",
       "      <th>Has a car</th>\n",
       "      <th>Has a property</th>\n",
       "      <th>Children count</th>\n",
       "      <th>Income</th>\n",
       "      <th>Age</th>\n",
       "      <th>Employment length</th>\n",
       "      <th>Has a work phone</th>\n",
       "      <th>Has a phone</th>\n",
       "      <th>Has an email</th>\n",
       "      <th>Family member count</th>\n",
       "      <th>Account age</th>\n",
       "      <th>Is high risk</th>\n",
       "      <th>Gender_M</th>\n",
       "      <th>Employment status_Pensioner</th>\n",
       "      <th>Employment status_State servant</th>\n",
       "      <th>Employment status_Student</th>\n",
       "      <th>Employment status_Working</th>\n",
       "      <th>Education level_Higher education</th>\n",
       "      <th>Education level_Incomplete higher</th>\n",
       "      <th>Education level_Lower secondary</th>\n",
       "      <th>Education level_Secondary / secondary special</th>\n",
       "      <th>Marital status_Married</th>\n",
       "      <th>Marital status_Separated</th>\n",
       "      <th>Marital status_Single / not married</th>\n",
       "      <th>Marital status_Widow</th>\n",
       "      <th>Dwelling_House / apartment</th>\n",
       "      <th>Dwelling_Municipal apartment</th>\n",
       "      <th>Dwelling_Office apartment</th>\n",
       "      <th>Dwelling_Rented apartment</th>\n",
       "      <th>Dwelling_With parents</th>\n",
       "    </tr>\n",
       "  </thead>\n",
       "  <tbody>\n",
       "    <tr>\n",
       "      <th>0</th>\n",
       "      <td>1</td>\n",
       "      <td>1</td>\n",
       "      <td>0</td>\n",
       "      <td>135000.0</td>\n",
       "      <td>-16271</td>\n",
       "      <td>-3111</td>\n",
       "      <td>0</td>\n",
       "      <td>0</td>\n",
       "      <td>0</td>\n",
       "      <td>2.0</td>\n",
       "      <td>-17.0</td>\n",
       "      <td>0</td>\n",
       "      <td>True</td>\n",
       "      <td>False</td>\n",
       "      <td>False</td>\n",
       "      <td>False</td>\n",
       "      <td>True</td>\n",
       "      <td>False</td>\n",
       "      <td>False</td>\n",
       "      <td>False</td>\n",
       "      <td>True</td>\n",
       "      <td>True</td>\n",
       "      <td>False</td>\n",
       "      <td>False</td>\n",
       "      <td>False</td>\n",
       "      <td>False</td>\n",
       "      <td>False</td>\n",
       "      <td>False</td>\n",
       "      <td>False</td>\n",
       "      <td>True</td>\n",
       "    </tr>\n",
       "    <tr>\n",
       "      <th>1</th>\n",
       "      <td>1</td>\n",
       "      <td>0</td>\n",
       "      <td>1</td>\n",
       "      <td>135000.0</td>\n",
       "      <td>-10130</td>\n",
       "      <td>-1651</td>\n",
       "      <td>0</td>\n",
       "      <td>0</td>\n",
       "      <td>0</td>\n",
       "      <td>2.0</td>\n",
       "      <td>-1.0</td>\n",
       "      <td>0</td>\n",
       "      <td>False</td>\n",
       "      <td>False</td>\n",
       "      <td>False</td>\n",
       "      <td>False</td>\n",
       "      <td>False</td>\n",
       "      <td>True</td>\n",
       "      <td>False</td>\n",
       "      <td>False</td>\n",
       "      <td>False</td>\n",
       "      <td>False</td>\n",
       "      <td>False</td>\n",
       "      <td>True</td>\n",
       "      <td>False</td>\n",
       "      <td>True</td>\n",
       "      <td>False</td>\n",
       "      <td>False</td>\n",
       "      <td>False</td>\n",
       "      <td>False</td>\n",
       "    </tr>\n",
       "    <tr>\n",
       "      <th>2</th>\n",
       "      <td>0</td>\n",
       "      <td>1</td>\n",
       "      <td>2</td>\n",
       "      <td>180000.0</td>\n",
       "      <td>-12821</td>\n",
       "      <td>-5657</td>\n",
       "      <td>0</td>\n",
       "      <td>0</td>\n",
       "      <td>0</td>\n",
       "      <td>4.0</td>\n",
       "      <td>-38.0</td>\n",
       "      <td>0</td>\n",
       "      <td>False</td>\n",
       "      <td>False</td>\n",
       "      <td>False</td>\n",
       "      <td>False</td>\n",
       "      <td>False</td>\n",
       "      <td>False</td>\n",
       "      <td>False</td>\n",
       "      <td>False</td>\n",
       "      <td>True</td>\n",
       "      <td>True</td>\n",
       "      <td>False</td>\n",
       "      <td>False</td>\n",
       "      <td>False</td>\n",
       "      <td>True</td>\n",
       "      <td>False</td>\n",
       "      <td>False</td>\n",
       "      <td>False</td>\n",
       "      <td>False</td>\n",
       "    </tr>\n",
       "    <tr>\n",
       "      <th>3</th>\n",
       "      <td>1</td>\n",
       "      <td>1</td>\n",
       "      <td>0</td>\n",
       "      <td>360000.0</td>\n",
       "      <td>-20929</td>\n",
       "      <td>-2046</td>\n",
       "      <td>0</td>\n",
       "      <td>0</td>\n",
       "      <td>1</td>\n",
       "      <td>1.0</td>\n",
       "      <td>-11.0</td>\n",
       "      <td>0</td>\n",
       "      <td>False</td>\n",
       "      <td>False</td>\n",
       "      <td>False</td>\n",
       "      <td>False</td>\n",
       "      <td>False</td>\n",
       "      <td>True</td>\n",
       "      <td>False</td>\n",
       "      <td>False</td>\n",
       "      <td>False</td>\n",
       "      <td>False</td>\n",
       "      <td>False</td>\n",
       "      <td>True</td>\n",
       "      <td>False</td>\n",
       "      <td>True</td>\n",
       "      <td>False</td>\n",
       "      <td>False</td>\n",
       "      <td>False</td>\n",
       "      <td>False</td>\n",
       "    </tr>\n",
       "    <tr>\n",
       "      <th>4</th>\n",
       "      <td>0</td>\n",
       "      <td>0</td>\n",
       "      <td>0</td>\n",
       "      <td>270000.0</td>\n",
       "      <td>-16207</td>\n",
       "      <td>-515</td>\n",
       "      <td>0</td>\n",
       "      <td>1</td>\n",
       "      <td>0</td>\n",
       "      <td>1.0</td>\n",
       "      <td>-41.0</td>\n",
       "      <td>0</td>\n",
       "      <td>False</td>\n",
       "      <td>False</td>\n",
       "      <td>False</td>\n",
       "      <td>False</td>\n",
       "      <td>True</td>\n",
       "      <td>False</td>\n",
       "      <td>False</td>\n",
       "      <td>False</td>\n",
       "      <td>True</td>\n",
       "      <td>False</td>\n",
       "      <td>True</td>\n",
       "      <td>False</td>\n",
       "      <td>False</td>\n",
       "      <td>True</td>\n",
       "      <td>False</td>\n",
       "      <td>False</td>\n",
       "      <td>False</td>\n",
       "      <td>False</td>\n",
       "    </tr>\n",
       "  </tbody>\n",
       "</table>\n",
       "</div>"
      ],
      "text/plain": [
       "   Has a car  Has a property  Children count    Income    Age  \\\n",
       "0          1               1               0  135000.0 -16271   \n",
       "1          1               0               1  135000.0 -10130   \n",
       "2          0               1               2  180000.0 -12821   \n",
       "3          1               1               0  360000.0 -20929   \n",
       "4          0               0               0  270000.0 -16207   \n",
       "\n",
       "   Employment length  Has a work phone  Has a phone  Has an email  \\\n",
       "0              -3111                 0            0             0   \n",
       "1              -1651                 0            0             0   \n",
       "2              -5657                 0            0             0   \n",
       "3              -2046                 0            0             1   \n",
       "4               -515                 0            1             0   \n",
       "\n",
       "   Family member count  Account age  Is high risk  Gender_M  \\\n",
       "0                  2.0        -17.0             0      True   \n",
       "1                  2.0         -1.0             0     False   \n",
       "2                  4.0        -38.0             0     False   \n",
       "3                  1.0        -11.0             0     False   \n",
       "4                  1.0        -41.0             0     False   \n",
       "\n",
       "   Employment status_Pensioner  Employment status_State servant  \\\n",
       "0                        False                            False   \n",
       "1                        False                            False   \n",
       "2                        False                            False   \n",
       "3                        False                            False   \n",
       "4                        False                            False   \n",
       "\n",
       "   Employment status_Student  Employment status_Working  \\\n",
       "0                      False                       True   \n",
       "1                      False                      False   \n",
       "2                      False                      False   \n",
       "3                      False                      False   \n",
       "4                      False                       True   \n",
       "\n",
       "   Education level_Higher education  Education level_Incomplete higher  \\\n",
       "0                             False                              False   \n",
       "1                              True                              False   \n",
       "2                             False                              False   \n",
       "3                              True                              False   \n",
       "4                             False                              False   \n",
       "\n",
       "   Education level_Lower secondary  \\\n",
       "0                            False   \n",
       "1                            False   \n",
       "2                            False   \n",
       "3                            False   \n",
       "4                            False   \n",
       "\n",
       "   Education level_Secondary / secondary special  Marital status_Married  \\\n",
       "0                                           True                    True   \n",
       "1                                          False                   False   \n",
       "2                                           True                    True   \n",
       "3                                          False                   False   \n",
       "4                                           True                   False   \n",
       "\n",
       "   Marital status_Separated  Marital status_Single / not married  \\\n",
       "0                     False                                False   \n",
       "1                     False                                 True   \n",
       "2                     False                                False   \n",
       "3                     False                                 True   \n",
       "4                      True                                False   \n",
       "\n",
       "   Marital status_Widow  Dwelling_House / apartment  \\\n",
       "0                 False                       False   \n",
       "1                 False                        True   \n",
       "2                 False                        True   \n",
       "3                 False                        True   \n",
       "4                 False                        True   \n",
       "\n",
       "   Dwelling_Municipal apartment  Dwelling_Office apartment  \\\n",
       "0                         False                      False   \n",
       "1                         False                      False   \n",
       "2                         False                      False   \n",
       "3                         False                      False   \n",
       "4                         False                      False   \n",
       "\n",
       "   Dwelling_Rented apartment  Dwelling_With parents  \n",
       "0                      False                   True  \n",
       "1                      False                  False  \n",
       "2                      False                  False  \n",
       "3                      False                  False  \n",
       "4                      False                  False  "
      ]
     },
     "execution_count": 27,
     "metadata": {},
     "output_type": "execute_result"
    }
   ],
   "source": [
    "df.head()"
   ]
  },
  {
   "cell_type": "code",
   "execution_count": 28,
   "id": "7e9c479e",
   "metadata": {},
   "outputs": [],
   "source": [
    "x=df.drop('Is high risk',axis=1)\n",
    "y=df[['Is high risk']]"
   ]
  },
  {
   "cell_type": "code",
   "execution_count": 29,
   "id": "2fb859aa",
   "metadata": {},
   "outputs": [],
   "source": [
    "import tensorflow as tf\n",
    "from tensorflow.keras.models import Sequential\n",
    "from tensorflow.keras.layers import Dense,Conv2D, InputLayer, Reshape, MaxPooling2D, Flatten,Dropout, BatchNormalization\n",
    "from sklearn.model_selection import train_test_split"
   ]
  },
  {
   "cell_type": "code",
   "execution_count": 30,
   "id": "f0409a11",
   "metadata": {},
   "outputs": [],
   "source": [
    "from sklearn.model_selection import train_test_split"
   ]
  },
  {
   "cell_type": "code",
   "execution_count": 31,
   "id": "9ae9261f",
   "metadata": {},
   "outputs": [],
   "source": [
    "x_train,x_test,y_train,y_test=train_test_split(x,y,test_size=.20,random_state=42)"
   ]
  },
  {
   "cell_type": "code",
   "execution_count": 32,
   "id": "e192805f",
   "metadata": {},
   "outputs": [],
   "source": [
    "model=Sequential()\n",
    "\n",
    "model.add(Dense(18,activation='relu'))\n",
    "model.add(Dropout(0.5))\n",
    "model.add(Dense(10,activation='relu'))\n",
    "model.add(BatchNormalization())\n",
    "model.add(Dense(4,activation='relu'))\n",
    "model.add(Dense(1, activation='sigmoid'))\n",
    "model.compile(loss='binary_crossentropy', optimizer='adam', metrics=['accuracy'])"
   ]
  },
  {
   "cell_type": "code",
   "execution_count": 33,
   "id": "cefd0927",
   "metadata": {},
   "outputs": [
    {
     "name": "stdout",
     "output_type": "stream",
     "text": [
      "Epoch 1/45\n",
      "\u001b[1m912/912\u001b[0m \u001b[32m━━━━━━━━━━━━━━━━━━━━\u001b[0m\u001b[37m\u001b[0m \u001b[1m1s\u001b[0m 526us/step - accuracy: 0.9822 - loss: 0.1702 - val_accuracy: 0.9851 - val_loss: 0.0881\n",
      "Epoch 2/45\n",
      "\u001b[1m912/912\u001b[0m \u001b[32m━━━━━━━━━━━━━━━━━━━━\u001b[0m\u001b[37m\u001b[0m \u001b[1m0s\u001b[0m 425us/step - accuracy: 0.9821 - loss: 0.0945 - val_accuracy: 0.9851 - val_loss: 0.0814\n",
      "Epoch 3/45\n",
      "\u001b[1m912/912\u001b[0m \u001b[32m━━━━━━━━━━━━━━━━━━━━\u001b[0m\u001b[37m\u001b[0m \u001b[1m0s\u001b[0m 441us/step - accuracy: 0.9822 - loss: 0.0945 - val_accuracy: 0.9851 - val_loss: 0.0808\n",
      "Epoch 4/45\n",
      "\u001b[1m912/912\u001b[0m \u001b[32m━━━━━━━━━━━━━━━━━━━━\u001b[0m\u001b[37m\u001b[0m \u001b[1m0s\u001b[0m 438us/step - accuracy: 0.9828 - loss: 0.0896 - val_accuracy: 0.9851 - val_loss: 0.0799\n",
      "Epoch 5/45\n",
      "\u001b[1m912/912\u001b[0m \u001b[32m━━━━━━━━━━━━━━━━━━━━\u001b[0m\u001b[37m\u001b[0m \u001b[1m0s\u001b[0m 425us/step - accuracy: 0.9824 - loss: 0.0908 - val_accuracy: 0.9851 - val_loss: 0.0802\n",
      "Epoch 6/45\n",
      "\u001b[1m912/912\u001b[0m \u001b[32m━━━━━━━━━━━━━━━━━━━━\u001b[0m\u001b[37m\u001b[0m \u001b[1m0s\u001b[0m 425us/step - accuracy: 0.9827 - loss: 0.0884 - val_accuracy: 0.9851 - val_loss: 0.0798\n",
      "Epoch 7/45\n",
      "\u001b[1m912/912\u001b[0m \u001b[32m━━━━━━━━━━━━━━━━━━━━\u001b[0m\u001b[37m\u001b[0m \u001b[1m0s\u001b[0m 423us/step - accuracy: 0.9826 - loss: 0.0896 - val_accuracy: 0.9851 - val_loss: 0.0795\n",
      "Epoch 8/45\n",
      "\u001b[1m912/912\u001b[0m \u001b[32m━━━━━━━━━━━━━━━━━━━━\u001b[0m\u001b[37m\u001b[0m \u001b[1m0s\u001b[0m 424us/step - accuracy: 0.9820 - loss: 0.0910 - val_accuracy: 0.9851 - val_loss: 0.0791\n",
      "Epoch 9/45\n",
      "\u001b[1m912/912\u001b[0m \u001b[32m━━━━━━━━━━━━━━━━━━━━\u001b[0m\u001b[37m\u001b[0m \u001b[1m0s\u001b[0m 448us/step - accuracy: 0.9831 - loss: 0.0875 - val_accuracy: 0.9851 - val_loss: 0.0787\n",
      "Epoch 10/45\n",
      "\u001b[1m912/912\u001b[0m \u001b[32m━━━━━━━━━━━━━━━━━━━━\u001b[0m\u001b[37m\u001b[0m \u001b[1m0s\u001b[0m 446us/step - accuracy: 0.9821 - loss: 0.0901 - val_accuracy: 0.9851 - val_loss: 0.0784\n",
      "Epoch 11/45\n",
      "\u001b[1m912/912\u001b[0m \u001b[32m━━━━━━━━━━━━━━━━━━━━\u001b[0m\u001b[37m\u001b[0m \u001b[1m0s\u001b[0m 443us/step - accuracy: 0.9834 - loss: 0.0852 - val_accuracy: 0.9851 - val_loss: 0.0782\n",
      "Epoch 12/45\n",
      "\u001b[1m912/912\u001b[0m \u001b[32m━━━━━━━━━━━━━━━━━━━━\u001b[0m\u001b[37m\u001b[0m \u001b[1m0s\u001b[0m 450us/step - accuracy: 0.9817 - loss: 0.0919 - val_accuracy: 0.9851 - val_loss: 0.0781\n",
      "Epoch 13/45\n",
      "\u001b[1m912/912\u001b[0m \u001b[32m━━━━━━━━━━━━━━━━━━━━\u001b[0m\u001b[37m\u001b[0m \u001b[1m0s\u001b[0m 449us/step - accuracy: 0.9827 - loss: 0.0880 - val_accuracy: 0.9851 - val_loss: 0.0778\n",
      "Epoch 14/45\n",
      "\u001b[1m912/912\u001b[0m \u001b[32m━━━━━━━━━━━━━━━━━━━━\u001b[0m\u001b[37m\u001b[0m \u001b[1m0s\u001b[0m 441us/step - accuracy: 0.9822 - loss: 0.0900 - val_accuracy: 0.9851 - val_loss: 0.0782\n",
      "Epoch 15/45\n",
      "\u001b[1m912/912\u001b[0m \u001b[32m━━━━━━━━━━━━━━━━━━━━\u001b[0m\u001b[37m\u001b[0m \u001b[1m0s\u001b[0m 447us/step - accuracy: 0.9820 - loss: 0.0903 - val_accuracy: 0.9851 - val_loss: 0.0783\n",
      "Epoch 16/45\n",
      "\u001b[1m912/912\u001b[0m \u001b[32m━━━━━━━━━━━━━━━━━━━━\u001b[0m\u001b[37m\u001b[0m \u001b[1m0s\u001b[0m 431us/step - accuracy: 0.9822 - loss: 0.0900 - val_accuracy: 0.9851 - val_loss: 0.0778\n",
      "Epoch 17/45\n",
      "\u001b[1m912/912\u001b[0m \u001b[32m━━━━━━━━━━━━━━━━━━━━\u001b[0m\u001b[37m\u001b[0m \u001b[1m0s\u001b[0m 431us/step - accuracy: 0.9823 - loss: 0.0893 - val_accuracy: 0.9851 - val_loss: 0.0777\n",
      "Epoch 18/45\n",
      "\u001b[1m912/912\u001b[0m \u001b[32m━━━━━━━━━━━━━━━━━━━━\u001b[0m\u001b[37m\u001b[0m \u001b[1m0s\u001b[0m 458us/step - accuracy: 0.9832 - loss: 0.0859 - val_accuracy: 0.9851 - val_loss: 0.0781\n",
      "Epoch 19/45\n",
      "\u001b[1m912/912\u001b[0m \u001b[32m━━━━━━━━━━━━━━━━━━━━\u001b[0m\u001b[37m\u001b[0m \u001b[1m0s\u001b[0m 456us/step - accuracy: 0.9824 - loss: 0.0890 - val_accuracy: 0.9851 - val_loss: 0.0780\n",
      "Epoch 20/45\n",
      "\u001b[1m912/912\u001b[0m \u001b[32m━━━━━━━━━━━━━━━━━━━━\u001b[0m\u001b[37m\u001b[0m \u001b[1m0s\u001b[0m 432us/step - accuracy: 0.9843 - loss: 0.0812 - val_accuracy: 0.9851 - val_loss: 0.0787\n",
      "Epoch 21/45\n",
      "\u001b[1m912/912\u001b[0m \u001b[32m━━━━━━━━━━━━━━━━━━━━\u001b[0m\u001b[37m\u001b[0m \u001b[1m0s\u001b[0m 432us/step - accuracy: 0.9838 - loss: 0.0830 - val_accuracy: 0.9851 - val_loss: 0.0790\n",
      "Epoch 22/45\n",
      "\u001b[1m912/912\u001b[0m \u001b[32m━━━━━━━━━━━━━━━━━━━━\u001b[0m\u001b[37m\u001b[0m \u001b[1m0s\u001b[0m 449us/step - accuracy: 0.9818 - loss: 0.0917 - val_accuracy: 0.9851 - val_loss: 0.0778\n",
      "Epoch 23/45\n",
      "\u001b[1m912/912\u001b[0m \u001b[32m━━━━━━━━━━━━━━━━━━━━\u001b[0m\u001b[37m\u001b[0m \u001b[1m0s\u001b[0m 455us/step - accuracy: 0.9839 - loss: 0.0829 - val_accuracy: 0.9851 - val_loss: 0.0781\n",
      "Epoch 24/45\n",
      "\u001b[1m912/912\u001b[0m \u001b[32m━━━━━━━━━━━━━━━━━━━━\u001b[0m\u001b[37m\u001b[0m \u001b[1m0s\u001b[0m 444us/step - accuracy: 0.9815 - loss: 0.0921 - val_accuracy: 0.9851 - val_loss: 0.0779\n",
      "Epoch 25/45\n",
      "\u001b[1m912/912\u001b[0m \u001b[32m━━━━━━━━━━━━━━━━━━━━\u001b[0m\u001b[37m\u001b[0m \u001b[1m0s\u001b[0m 446us/step - accuracy: 0.9825 - loss: 0.0884 - val_accuracy: 0.9851 - val_loss: 0.0777\n",
      "Epoch 26/45\n",
      "\u001b[1m912/912\u001b[0m \u001b[32m━━━━━━━━━━━━━━━━━━━━\u001b[0m\u001b[37m\u001b[0m \u001b[1m0s\u001b[0m 447us/step - accuracy: 0.9825 - loss: 0.0886 - val_accuracy: 0.9851 - val_loss: 0.0778\n",
      "Epoch 27/45\n",
      "\u001b[1m912/912\u001b[0m \u001b[32m━━━━━━━━━━━━━━━━━━━━\u001b[0m\u001b[37m\u001b[0m \u001b[1m0s\u001b[0m 434us/step - accuracy: 0.9826 - loss: 0.0878 - val_accuracy: 0.9851 - val_loss: 0.0777\n",
      "Epoch 28/45\n",
      "\u001b[1m912/912\u001b[0m \u001b[32m━━━━━━━━━━━━━━━━━━━━\u001b[0m\u001b[37m\u001b[0m \u001b[1m0s\u001b[0m 441us/step - accuracy: 0.9830 - loss: 0.0864 - val_accuracy: 0.9851 - val_loss: 0.0781\n",
      "Epoch 29/45\n",
      "\u001b[1m912/912\u001b[0m \u001b[32m━━━━━━━━━━━━━━━━━━━━\u001b[0m\u001b[37m\u001b[0m \u001b[1m0s\u001b[0m 457us/step - accuracy: 0.9823 - loss: 0.0898 - val_accuracy: 0.9851 - val_loss: 0.0777\n",
      "Epoch 30/45\n",
      "\u001b[1m912/912\u001b[0m \u001b[32m━━━━━━━━━━━━━━━━━━━━\u001b[0m\u001b[37m\u001b[0m \u001b[1m0s\u001b[0m 431us/step - accuracy: 0.9817 - loss: 0.0918 - val_accuracy: 0.9851 - val_loss: 0.0777\n",
      "Epoch 31/45\n",
      "\u001b[1m912/912\u001b[0m \u001b[32m━━━━━━━━━━━━━━━━━━━━\u001b[0m\u001b[37m\u001b[0m \u001b[1m0s\u001b[0m 435us/step - accuracy: 0.9828 - loss: 0.0870 - val_accuracy: 0.9851 - val_loss: 0.0779\n",
      "Epoch 32/45\n",
      "\u001b[1m912/912\u001b[0m \u001b[32m━━━━━━━━━━━━━━━━━━━━\u001b[0m\u001b[37m\u001b[0m \u001b[1m0s\u001b[0m 433us/step - accuracy: 0.9831 - loss: 0.0858 - val_accuracy: 0.9851 - val_loss: 0.0777\n",
      "Epoch 33/45\n",
      "\u001b[1m912/912\u001b[0m \u001b[32m━━━━━━━━━━━━━━━━━━━━\u001b[0m\u001b[37m\u001b[0m \u001b[1m0s\u001b[0m 431us/step - accuracy: 0.9830 - loss: 0.0865 - val_accuracy: 0.9851 - val_loss: 0.0777\n",
      "Epoch 34/45\n",
      "\u001b[1m912/912\u001b[0m \u001b[32m━━━━━━━━━━━━━━━━━━━━\u001b[0m\u001b[37m\u001b[0m \u001b[1m0s\u001b[0m 435us/step - accuracy: 0.9822 - loss: 0.0897 - val_accuracy: 0.9851 - val_loss: 0.0782\n",
      "Epoch 35/45\n",
      "\u001b[1m912/912\u001b[0m \u001b[32m━━━━━━━━━━━━━━━━━━━━\u001b[0m\u001b[37m\u001b[0m \u001b[1m0s\u001b[0m 434us/step - accuracy: 0.9824 - loss: 0.0891 - val_accuracy: 0.9851 - val_loss: 0.0778\n",
      "Epoch 36/45\n",
      "\u001b[1m912/912\u001b[0m \u001b[32m━━━━━━━━━━━━━━━━━━━━\u001b[0m\u001b[37m\u001b[0m \u001b[1m0s\u001b[0m 449us/step - accuracy: 0.9823 - loss: 0.0895 - val_accuracy: 0.9851 - val_loss: 0.0778\n",
      "Epoch 37/45\n",
      "\u001b[1m912/912\u001b[0m \u001b[32m━━━━━━━━━━━━━━━━━━━━\u001b[0m\u001b[37m\u001b[0m \u001b[1m0s\u001b[0m 433us/step - accuracy: 0.9828 - loss: 0.0873 - val_accuracy: 0.9851 - val_loss: 0.0786\n",
      "Epoch 38/45\n",
      "\u001b[1m912/912\u001b[0m \u001b[32m━━━━━━━━━━━━━━━━━━━━\u001b[0m\u001b[37m\u001b[0m \u001b[1m0s\u001b[0m 432us/step - accuracy: 0.9826 - loss: 0.0880 - val_accuracy: 0.9851 - val_loss: 0.0781\n",
      "Epoch 39/45\n",
      "\u001b[1m912/912\u001b[0m \u001b[32m━━━━━━━━━━━━━━━━━━━━\u001b[0m\u001b[37m\u001b[0m \u001b[1m0s\u001b[0m 471us/step - accuracy: 0.9836 - loss: 0.0842 - val_accuracy: 0.9851 - val_loss: 0.0776\n",
      "Epoch 40/45\n",
      "\u001b[1m912/912\u001b[0m \u001b[32m━━━━━━━━━━━━━━━━━━━━\u001b[0m\u001b[37m\u001b[0m \u001b[1m0s\u001b[0m 431us/step - accuracy: 0.9839 - loss: 0.0822 - val_accuracy: 0.9851 - val_loss: 0.0785\n",
      "Epoch 41/45\n",
      "\u001b[1m912/912\u001b[0m \u001b[32m━━━━━━━━━━━━━━━━━━━━\u001b[0m\u001b[37m\u001b[0m \u001b[1m0s\u001b[0m 436us/step - accuracy: 0.9822 - loss: 0.0897 - val_accuracy: 0.9851 - val_loss: 0.0777\n",
      "Epoch 42/45\n",
      "\u001b[1m912/912\u001b[0m \u001b[32m━━━━━━━━━━━━━━━━━━━━\u001b[0m\u001b[37m\u001b[0m \u001b[1m0s\u001b[0m 443us/step - accuracy: 0.9823 - loss: 0.0890 - val_accuracy: 0.9851 - val_loss: 0.0777\n",
      "Epoch 43/45\n",
      "\u001b[1m912/912\u001b[0m \u001b[32m━━━━━━━━━━━━━━━━━━━━\u001b[0m\u001b[37m\u001b[0m \u001b[1m0s\u001b[0m 456us/step - accuracy: 0.9823 - loss: 0.0890 - val_accuracy: 0.9851 - val_loss: 0.0779\n",
      "Epoch 44/45\n",
      "\u001b[1m912/912\u001b[0m \u001b[32m━━━━━━━━━━━━━━━━━━━━\u001b[0m\u001b[37m\u001b[0m \u001b[1m0s\u001b[0m 439us/step - accuracy: 0.9829 - loss: 0.0871 - val_accuracy: 0.9851 - val_loss: 0.0777\n",
      "Epoch 45/45\n",
      "\u001b[1m912/912\u001b[0m \u001b[32m━━━━━━━━━━━━━━━━━━━━\u001b[0m\u001b[37m\u001b[0m \u001b[1m0s\u001b[0m 456us/step - accuracy: 0.9829 - loss: 0.0867 - val_accuracy: 0.9851 - val_loss: 0.0777\n"
     ]
    }
   ],
   "source": [
    "history = model.fit(x_train, y_train, validation_data=(x_test, y_test), epochs=45, verbose=1)"
   ]
  },
  {
   "cell_type": "code",
   "execution_count": 34,
   "id": "940f2cae",
   "metadata": {},
   "outputs": [
    {
     "name": "stdout",
     "output_type": "stream",
     "text": [
      "\u001b[1m228/228\u001b[0m \u001b[32m━━━━━━━━━━━━━━━━━━━━\u001b[0m\u001b[37m\u001b[0m \u001b[1m0s\u001b[0m 252us/step - accuracy: 0.9862 - loss: 0.0730\n"
     ]
    }
   ],
   "source": [
    "loss,accuracy=model.evaluate(x_test,y_test)"
   ]
  },
  {
   "cell_type": "code",
   "execution_count": 35,
   "id": "62734bf4",
   "metadata": {},
   "outputs": [
    {
     "data": {
      "text/plain": [
       "0.9850521087646484"
      ]
     },
     "execution_count": 35,
     "metadata": {},
     "output_type": "execute_result"
    }
   ],
   "source": [
    "accuracy"
   ]
  },
  {
   "cell_type": "code",
   "execution_count": 36,
   "id": "e7bd53f7",
   "metadata": {},
   "outputs": [
    {
     "name": "stdout",
     "output_type": "stream",
     "text": [
      "\u001b[1m228/228\u001b[0m \u001b[32m━━━━━━━━━━━━━━━━━━━━\u001b[0m\u001b[37m\u001b[0m \u001b[1m0s\u001b[0m 313us/step\n"
     ]
    }
   ],
   "source": [
    "tahmin=model.predict(x_test)"
   ]
  },
  {
   "cell_type": "code",
   "execution_count": 37,
   "id": "e7a4744f",
   "metadata": {},
   "outputs": [
    {
     "name": "stderr",
     "output_type": "stream",
     "text": [
      "WARNING:absl:You are saving your model as an HDF5 file via `model.save()` or `keras.saving.save_model(model)`. This file format is considered legacy. We recommend using instead the native Keras format, e.g. `model.save('my_model.keras')` or `keras.saving.save_model(model, 'my_model.keras')`. \n"
     ]
    }
   ],
   "source": [
    "model.save('Kredi.h5')"
   ]
  },
  {
   "cell_type": "code",
   "execution_count": 38,
   "id": "d6a9940e",
   "metadata": {},
   "outputs": [
    {
     "data": {
      "image/png": "[encoded data removed]",
      "text/plain": [
       "<Figure size 640x480 with 1 Axes>"
      ]
     },
     "metadata": {},
     "output_type": "display_data"
    }
   ],
   "source": [
    "plt.plot(history.history['accuracy'],label='Accuracy')\n",
    "plt.plot(history.history['val_accuracy'],label='Val_Accuracy')\n",
    "plt.legend();"
   ]
  },
  {
   "cell_type": "code",
   "execution_count": 39,
   "id": "00cfb150",
   "metadata": {},
   "outputs": [
    {
     "data": {
      "image/png": "[encoded data removed]",
      "text/plain": [
       "<Figure size 640x480 with 1 Axes>"
      ]
     },
     "metadata": {},
     "output_type": "display_data"
    }
   ],
   "source": [
    "loss_f=pd.DataFrame(history.history)\n",
    "loss_f.plot();"
   ]
  },
  {
   "cell_type": "code",
   "execution_count": 40,
   "id": "1c35f6a9",
   "metadata": {},
   "outputs": [],
   "source": [
    "from sklearn.metrics import accuracy_score, confusion_matrix,classification_report"
   ]
  },
  {
   "cell_type": "code",
   "execution_count": 41,
   "id": "acbe21fd",
   "metadata": {},
   "outputs": [
    {
     "data": {
      "text/plain": [
       "array([[7183,    0],\n",
       "       [ 109,    0]])"
      ]
     },
     "execution_count": 41,
     "metadata": {},
     "output_type": "execute_result"
    }
   ],
   "source": [
    "confusion_matrix(y_test, np.argmax(tahmin, axis=1))"
   ]
  },
  {
   "cell_type": "code",
   "execution_count": 42,
   "id": "79489dc1",
   "metadata": {},
   "outputs": [],
   "source": [
    "cm=confusion_matrix(y_test, np.argmax(tahmin, axis=1))"
   ]
  },
  {
   "cell_type": "code",
   "execution_count": 43,
   "id": "cba92618",
   "metadata": {},
   "outputs": [
    {
     "data": {
      "image/png": "[encoded data removed]",
      "text/plain": [
       "<Figure size 640x480 with 2 Axes>"
      ]
     },
     "metadata": {},
     "output_type": "display_data"
    }
   ],
   "source": [
    "\n",
    "from sklearn.metrics import confusion_matrix\n",
    "\n",
    "sns.heatmap(confusion_matrix(y_test, np.argmax(tahmin, axis=1)), annot=False);"
   ]
  },
  {
   "cell_type": "code",
   "execution_count": 44,
   "id": "6b34f086",
   "metadata": {},
   "outputs": [
    {
     "name": "stdout",
     "output_type": "stream",
     "text": [
      "              precision    recall  f1-score   support\n",
      "\n",
      "           0       0.99      1.00      0.99      7183\n",
      "           1       0.00      0.00      0.00       109\n",
      "\n",
      "    accuracy                           0.99      7292\n",
      "   macro avg       0.49      0.50      0.50      7292\n",
      "weighted avg       0.97      0.99      0.98      7292\n",
      "\n"
     ]
    }
   ],
   "source": [
    "print(classification_report(y_test, np.argmax(tahmin, axis=1)))"
   ]
  },
  {
   "cell_type": "markdown",
   "id": "a5e0cd16",
   "metadata": {},
   "source": [
    "# accuracy: 0.9862 - loss: 0.0730\n",
    "# Using this model, it is possible to see who is not given a credit card"
   ]
  }
 ],
 "metadata": {
  "kernelspec": {
   "display_name": "Python 3 (ipykernel)",
   "language": "python",
   "name": "python3"
  },
  "language_info": {
   "codemirror_mode": {
    "name": "ipython",
    "version": 3
   },
   "file_extension": ".py",
   "mimetype": "text/x-python",
   "name": "python",
   "nbconvert_exporter": "python",
   "pygments_lexer": "ipython3",
   "version": "3.11.7"
  }
 },
 "nbformat": 4,
 "nbformat_minor": 5
}
